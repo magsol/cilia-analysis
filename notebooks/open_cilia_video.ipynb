{
 "cells": [
  {
   "cell_type": "code",
   "execution_count": null,
   "id": "1bb1edf6-56de-4ade-9759-61d5eeec19af",
   "metadata": {},
   "outputs": [],
   "source": [
    "import numpy as np\n",
    "import matplotlib.pyplot as plt\n",
    "import imageio.v3 as iio"
   ]
  },
  {
   "cell_type": "code",
   "execution_count": null,
   "id": "9e495131-bfc8-4db8-9ec4-b9f52286ddf3",
   "metadata": {},
   "outputs": [],
   "source": [
    "#%%bash\n",
    "#../src/data/download.sh"
   ]
  },
  {
   "cell_type": "code",
   "execution_count": null,
   "id": "d9b4036e-d8d9-49b6-8bed-21318b231d04",
   "metadata": {},
   "outputs": [],
   "source": [
    "# Running this code assumes you've already\n",
    "#   1. downloaded the data, and\n",
    "#   2. created a small video file to work with\n",
    "# Both of these happen in the src/data/download.sh file\n",
    "# In theory you can uncomment both commands in the previous cell and run the cell.\n",
    "\n",
    "SAMPLE_VIDEO = \"../data/sample/01-control.avi\""
   ]
  },
  {
   "cell_type": "code",
   "execution_count": null,
   "id": "4ef811b9-eaa6-4f08-8745-705e7b32da5c",
   "metadata": {},
   "outputs": [],
   "source": [
    "video_frames = iio.imread(SAMPLE_VIDEO)\n",
    "print(video_frames.shape)"
   ]
  },
  {
   "cell_type": "code",
   "execution_count": null,
   "id": "4c6784fb-4f84-461b-97c6-b45143c8dfaf",
   "metadata": {},
   "outputs": [],
   "source": [
    "# It's not truly RGB data, so we need to drop the last axis.\n",
    "video = np.array(np.dot(video_frames, [1, 0, 0]), dtype = np.uint8)"
   ]
  },
  {
   "cell_type": "code",
   "execution_count": null,
   "id": "6d9d6c5f-ce64-429b-8792-5945658dedd4",
   "metadata": {},
   "outputs": [],
   "source": [
    "print(video.shape)"
   ]
  },
  {
   "cell_type": "code",
   "execution_count": null,
   "id": "4b3c7361-8e3f-4b6d-a1ad-36bb6365a6ce",
   "metadata": {},
   "outputs": [],
   "source": [
    "plt.imshow(video[0], cmap = \"gray\")"
   ]
  },
  {
   "cell_type": "code",
   "execution_count": null,
   "id": "a2f2f1fe-ce62-4805-8a34-54dae9b79ab1",
   "metadata": {},
   "outputs": [],
   "source": [
    "roi_cilia = video[:, 300:400, 300:400]\n",
    "roi_cell = video[:, 600:700, 100:200]\n",
    "roi_med = video[:, 100:200, 600:700]\n",
    "print(roi_cilia.shape)"
   ]
  },
  {
   "cell_type": "code",
   "execution_count": null,
   "id": "7ce1308a-9a8c-4eb0-bca4-bccef474c1c7",
   "metadata": {},
   "outputs": [],
   "source": [
    "kymograph = roi_cilia.reshape((30, -1)).T\n",
    "kymograph_zero = np.subtract(kymograph.T, kymograph.mean(axis = 1), casting = \"safe\").T\n",
    "kymograph_zero.shape"
   ]
  },
  {
   "cell_type": "code",
   "execution_count": null,
   "id": "467dbce9-7ddd-4c2e-913f-5f3b9ff81f97",
   "metadata": {},
   "outputs": [],
   "source": [
    "_ = plt.plot(np.arange(30), kymograph_zero[1000:2000, :].T)"
   ]
  },
  {
   "cell_type": "code",
   "execution_count": null,
   "id": "d3c84209-84f4-40ff-980d-4d83ec54977b",
   "metadata": {},
   "outputs": [],
   "source": [
    "kymograph = roi_cell.reshape((30, -1)).T\n",
    "kymograph_zero = np.subtract(kymograph.T, kymograph.mean(axis = 1), casting = \"safe\").T\n",
    "_ = plt.plot(np.arange(30), kymograph_zero[1000:2000, :].T)"
   ]
  },
  {
   "cell_type": "code",
   "execution_count": null,
   "id": "8d43a8ae-9a32-4692-90fd-9f2844baa018",
   "metadata": {},
   "outputs": [],
   "source": [
    "kymograph = roi_med.reshape((30, -1)).T\n",
    "kymograph_zero = np.subtract(kymograph.T, kymograph.mean(axis = 1), casting = \"safe\").T\n",
    "_ = plt.plot(np.arange(30), kymograph_zero[1000:2000, :].T)"
   ]
  },
  {
   "cell_type": "code",
   "execution_count": null,
   "id": "b586df59-7c84-457e-b0c5-770d63c34540",
   "metadata": {},
   "outputs": [],
   "source": []
  }
 ],
 "metadata": {
  "kernelspec": {
   "display_name": "Python 3 (ipykernel)",
   "language": "python",
   "name": "python3"
  },
  "language_info": {
   "codemirror_mode": {
    "name": "ipython",
    "version": 3
   },
   "file_extension": ".py",
   "mimetype": "text/x-python",
   "name": "python",
   "nbconvert_exporter": "python",
   "pygments_lexer": "ipython3",
   "version": "3.10.14"
  }
 },
 "nbformat": 4,
 "nbformat_minor": 5
}
